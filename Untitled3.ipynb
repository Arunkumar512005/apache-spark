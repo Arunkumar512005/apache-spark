{
 "cells": [
  {
   "cell_type": "code",
   "execution_count": 1,
   "id": "0c0dec87-67c8-4efd-9d13-f163a529e4b3",
   "metadata": {},
   "outputs": [
    {
     "name": "stdout",
     "output_type": "stream",
     "text": [
      "spark session created succesfully\n"
     ]
    }
   ],
   "source": [
    "from pyspark.sql import SparkSession\n",
    "\n",
    "spark = SparkSession.builder \\\n",
    "    .appName(\"DataProcessingBasics\") \\\n",
    "    .getOrCreate()\n",
    "print(\"spark session created succesfully\")"
   ]
  },
  {
   "cell_type": "code",
   "execution_count": 2,
   "id": "c2ecf23e-affb-4ef2-85c1-0ed40e0d3545",
   "metadata": {},
   "outputs": [],
   "source": [
    "data = spark.read.csv(\"E:\\\\insurance.csv\", header=True, inferSchema=True)\n"
   ]
  },
  {
   "cell_type": "code",
   "execution_count": 3,
   "id": "8202ebf8-5e0e-41e0-87e1-781c0e7a5152",
   "metadata": {},
   "outputs": [
    {
     "name": "stdout",
     "output_type": "stream",
     "text": [
      "root\n",
      " |-- age: integer (nullable = true)\n",
      " |-- sex: string (nullable = true)\n",
      " |-- bmi: double (nullable = true)\n",
      " |-- children: integer (nullable = true)\n",
      " |-- smoker: string (nullable = true)\n",
      " |-- region: string (nullable = true)\n",
      " |-- expenses: double (nullable = true)\n",
      "\n"
     ]
    }
   ],
   "source": [
    "data.printSchema()"
   ]
  },
  {
   "cell_type": "code",
   "execution_count": 4,
   "id": "80dc848f-5772-4def-b9e0-8d82c4d58d9c",
   "metadata": {},
   "outputs": [
    {
     "name": "stdout",
     "output_type": "stream",
     "text": [
      "+---+------+----+--------+------+---------+--------+\n",
      "|age|   sex| bmi|children|smoker|   region|expenses|\n",
      "+---+------+----+--------+------+---------+--------+\n",
      "| 19|female|27.9|       0|   yes|southwest|16884.92|\n",
      "| 18|  male|33.8|       1|    no|southeast| 1725.55|\n",
      "| 28|  male|33.0|       3|    no|southeast| 4449.46|\n",
      "| 33|  male|22.7|       0|    no|northwest|21984.47|\n",
      "| 32|  male|28.9|       0|    no|northwest| 3866.86|\n",
      "| 31|female|25.7|       0|    no|southeast| 3756.62|\n",
      "| 46|female|33.4|       1|    no|southeast| 8240.59|\n",
      "| 37|female|27.7|       3|    no|northwest| 7281.51|\n",
      "| 37|  male|29.8|       2|    no|northeast| 6406.41|\n",
      "| 60|female|25.8|       0|    no|northwest|28923.14|\n",
      "| 25|  male|26.2|       0|    no|northeast| 2721.32|\n",
      "| 62|female|26.3|       0|   yes|southeast|27808.73|\n",
      "| 23|  male|34.4|       0|    no|southwest| 1826.84|\n",
      "| 56|female|39.8|       0|    no|southeast|11090.72|\n",
      "| 27|  male|42.1|       0|   yes|southeast|39611.76|\n",
      "| 19|  male|24.6|       1|    no|southwest| 1837.24|\n",
      "| 52|female|30.8|       1|    no|northeast|10797.34|\n",
      "| 23|  male|23.8|       0|    no|northeast| 2395.17|\n",
      "| 56|  male|40.3|       0|    no|southwest|10602.39|\n",
      "| 30|  male|35.3|       0|   yes|southwest|36837.47|\n",
      "| 60|female|36.0|       0|    no|northeast|13228.85|\n",
      "| 30|female|32.4|       1|    no|southwest| 4149.74|\n",
      "| 18|  male|34.1|       0|    no|southeast| 1137.01|\n",
      "| 34|female|31.9|       1|   yes|northeast|37701.88|\n",
      "| 37|  male|28.0|       2|    no|northwest|  6203.9|\n",
      "+---+------+----+--------+------+---------+--------+\n",
      "only showing top 25 rows\n",
      "\n"
     ]
    }
   ],
   "source": [
    "data.show(25)"
   ]
  },
  {
   "cell_type": "code",
   "execution_count": 5,
   "id": "bf9ea126-2db5-435e-85b0-07d51bef7fd9",
   "metadata": {},
   "outputs": [
    {
     "name": "stdout",
     "output_type": "stream",
     "text": [
      "+---------+------+\n",
      "|   region|   sex|\n",
      "+---------+------+\n",
      "|southwest|female|\n",
      "|southeast|  male|\n",
      "|southeast|  male|\n",
      "|northwest|  male|\n",
      "|northwest|  male|\n",
      "|southeast|female|\n",
      "|southeast|female|\n",
      "|northwest|female|\n",
      "|northeast|  male|\n",
      "|northwest|female|\n",
      "|northeast|  male|\n",
      "|southeast|female|\n",
      "|southwest|  male|\n",
      "|southeast|female|\n",
      "|southeast|  male|\n",
      "|southwest|  male|\n",
      "|northeast|female|\n",
      "|northeast|  male|\n",
      "|southwest|  male|\n",
      "|southwest|  male|\n",
      "+---------+------+\n",
      "only showing top 20 rows\n",
      "\n"
     ]
    }
   ],
   "source": [
    "data.select(\"region\", \"sex\").show()\n"
   ]
  },
  {
   "cell_type": "code",
   "execution_count": 6,
   "id": "4cb28be2-a8b2-49a6-9c54-32223efeb969",
   "metadata": {},
   "outputs": [
    {
     "name": "stdout",
     "output_type": "stream",
     "text": [
      "+---+------+----+--------+------+---------+--------+\n",
      "|age|   sex| bmi|children|smoker|   region|expenses|\n",
      "+---+------+----+--------+------+---------+--------+\n",
      "| 28|  male|33.0|       3|    no|southeast| 4449.46|\n",
      "| 33|  male|22.7|       0|    no|northwest|21984.47|\n",
      "| 32|  male|28.9|       0|    no|northwest| 3866.86|\n",
      "| 31|female|25.7|       0|    no|southeast| 3756.62|\n",
      "| 46|female|33.4|       1|    no|southeast| 8240.59|\n",
      "+---+------+----+--------+------+---------+--------+\n",
      "only showing top 5 rows\n",
      "\n"
     ]
    }
   ],
   "source": [
    "filtered_data=data.filter(data[\"age\"]>19)\n",
    "filtered_data.show(5)"
   ]
  },
  {
   "cell_type": "code",
   "execution_count": 8,
   "id": "97987c18-b5cf-4d57-9eaf-637f1741a047",
   "metadata": {},
   "outputs": [],
   "source": [
    "aggregated_data = data.groupBy(\"region\").max()\n"
   ]
  },
  {
   "cell_type": "code",
   "execution_count": 9,
   "id": "75766847-77b2-418c-ba5c-9c278d5da04a",
   "metadata": {},
   "outputs": [
    {
     "name": "stdout",
     "output_type": "stream",
     "text": [
      "+---------+--------+--------+-------------+-------------+\n",
      "|   region|max(age)|max(bmi)|max(children)|max(expenses)|\n",
      "+---------+--------+--------+-------------+-------------+\n",
      "|northwest|      64|    42.9|            5|      60021.4|\n",
      "|southeast|      64|    53.1|            5|     63770.43|\n",
      "|northeast|      64|    48.1|            5|     58571.07|\n",
      "|southwest|      64|    47.6|            5|     52590.83|\n",
      "+---------+--------+--------+-------------+-------------+\n",
      "\n"
     ]
    }
   ],
   "source": [
    "aggregated_data.show(5)"
   ]
  },
  {
   "cell_type": "code",
   "execution_count": 10,
   "id": "5a506328-9522-491b-83c8-cc41a59585cb",
   "metadata": {},
   "outputs": [],
   "source": [
    "data=data.drop(\"region\")"
   ]
  },
  {
   "cell_type": "code",
   "execution_count": 11,
   "id": "fd588e98-b1c5-4db3-a4b0-0586244abeb1",
   "metadata": {},
   "outputs": [
    {
     "name": "stdout",
     "output_type": "stream",
     "text": [
      "+---+------+----+--------+------+--------+\n",
      "|age|   sex| bmi|children|smoker|expenses|\n",
      "+---+------+----+--------+------+--------+\n",
      "| 19|female|27.9|       0|   yes|16884.92|\n",
      "| 18|  male|33.8|       1|    no| 1725.55|\n",
      "| 28|  male|33.0|       3|    no| 4449.46|\n",
      "| 33|  male|22.7|       0|    no|21984.47|\n",
      "| 32|  male|28.9|       0|    no| 3866.86|\n",
      "+---+------+----+--------+------+--------+\n",
      "only showing top 5 rows\n",
      "\n"
     ]
    }
   ],
   "source": [
    "data.show(5)"
   ]
  },
  {
   "cell_type": "code",
   "execution_count": 12,
   "id": "b8ef852b-a68c-47f2-8008-56e3a2bd6594",
   "metadata": {},
   "outputs": [
    {
     "name": "stdout",
     "output_type": "stream",
     "text": [
      "[Row(age=19, sex='female', bmi=27.9, children=0, smoker='yes', expenses=16884.92), Row(age=18, sex='male', bmi=33.8, children=1, smoker='no', expenses=1725.55), Row(age=28, sex='male', bmi=33.0, children=3, smoker='no', expenses=4449.46)]\n"
     ]
    }
   ],
   "source": [
    "collected_data=data.collect()\n",
    "print(collected_data[:3])"
   ]
  },
  {
   "cell_type": "code",
   "execution_count": 13,
   "id": "9213ad5b-fede-432d-8a2a-e8919a39bb7d",
   "metadata": {},
   "outputs": [],
   "source": [
    "clean_data=data.dropna()"
   ]
  },
  {
   "cell_type": "code",
   "execution_count": 14,
   "id": "a00efabe-e6c4-40ec-bf08-e356465a8aad",
   "metadata": {},
   "outputs": [
    {
     "name": "stdout",
     "output_type": "stream",
     "text": [
      "+---+------+----+--------+------+--------+\n",
      "|age|   sex| bmi|children|smoker|expenses|\n",
      "+---+------+----+--------+------+--------+\n",
      "| 19|female|27.9|       0|   yes|16884.92|\n",
      "| 18|  male|33.8|       1|    no| 1725.55|\n",
      "| 28|  male|33.0|       3|    no| 4449.46|\n",
      "| 33|  male|22.7|       0|    no|21984.47|\n",
      "| 32|  male|28.9|       0|    no| 3866.86|\n",
      "| 31|female|25.7|       0|    no| 3756.62|\n",
      "| 46|female|33.4|       1|    no| 8240.59|\n",
      "| 37|female|27.7|       3|    no| 7281.51|\n",
      "| 37|  male|29.8|       2|    no| 6406.41|\n",
      "| 60|female|25.8|       0|    no|28923.14|\n",
      "| 25|  male|26.2|       0|    no| 2721.32|\n",
      "| 62|female|26.3|       0|   yes|27808.73|\n",
      "| 23|  male|34.4|       0|    no| 1826.84|\n",
      "| 56|female|39.8|       0|    no|11090.72|\n",
      "| 27|  male|42.1|       0|   yes|39611.76|\n",
      "| 19|  male|24.6|       1|    no| 1837.24|\n",
      "| 52|female|30.8|       1|    no|10797.34|\n",
      "| 23|  male|23.8|       0|    no| 2395.17|\n",
      "| 56|  male|40.3|       0|    no|10602.39|\n",
      "| 30|  male|35.3|       0|   yes|36837.47|\n",
      "+---+------+----+--------+------+--------+\n",
      "only showing top 20 rows\n",
      "\n"
     ]
    }
   ],
   "source": [
    "clean_data.show()"
   ]
  },
  {
   "cell_type": "code",
   "execution_count": 15,
   "id": "60a53391-ee97-4f01-a6c9-fc9f7d75e85a",
   "metadata": {},
   "outputs": [],
   "source": [
    "fill_data=data.fillna({\"sex\":0,\"age\":\"unknown\"})"
   ]
  },
  {
   "cell_type": "code",
   "execution_count": 16,
   "id": "c9e3c4fa-4b0b-44e0-a097-605240eb9a1c",
   "metadata": {},
   "outputs": [],
   "source": [
    "data.createOrReplaceTempView(\"data_view\")\n"
   ]
  },
  {
   "cell_type": "code",
   "execution_count": 17,
   "id": "ee39e5b6-6ef8-4b78-87a4-3641ed2fa3ea",
   "metadata": {},
   "outputs": [],
   "source": [
    "sql_data=spark.sql(\"SELECT *FROM data_view WHERE age>20\")"
   ]
  },
  {
   "cell_type": "code",
   "execution_count": 18,
   "id": "71c2101b-6263-431c-b33c-a77a7f3bb5a5",
   "metadata": {},
   "outputs": [
    {
     "name": "stdout",
     "output_type": "stream",
     "text": [
      "+---+------+----+--------+------+--------+\n",
      "|age|   sex| bmi|children|smoker|expenses|\n",
      "+---+------+----+--------+------+--------+\n",
      "| 28|  male|33.0|       3|    no| 4449.46|\n",
      "| 33|  male|22.7|       0|    no|21984.47|\n",
      "| 32|  male|28.9|       0|    no| 3866.86|\n",
      "| 31|female|25.7|       0|    no| 3756.62|\n",
      "| 46|female|33.4|       1|    no| 8240.59|\n",
      "| 37|female|27.7|       3|    no| 7281.51|\n",
      "| 37|  male|29.8|       2|    no| 6406.41|\n",
      "| 60|female|25.8|       0|    no|28923.14|\n",
      "| 25|  male|26.2|       0|    no| 2721.32|\n",
      "| 62|female|26.3|       0|   yes|27808.73|\n",
      "| 23|  male|34.4|       0|    no| 1826.84|\n",
      "| 56|female|39.8|       0|    no|11090.72|\n",
      "| 27|  male|42.1|       0|   yes|39611.76|\n",
      "| 52|female|30.8|       1|    no|10797.34|\n",
      "| 23|  male|23.8|       0|    no| 2395.17|\n",
      "| 56|  male|40.3|       0|    no|10602.39|\n",
      "| 30|  male|35.3|       0|   yes|36837.47|\n",
      "| 60|female|36.0|       0|    no|13228.85|\n",
      "| 30|female|32.4|       1|    no| 4149.74|\n",
      "| 34|female|31.9|       1|   yes|37701.88|\n",
      "+---+------+----+--------+------+--------+\n",
      "only showing top 20 rows\n",
      "\n"
     ]
    }
   ],
   "source": [
    "sql_data.show()"
   ]
  },
  {
   "cell_type": "code",
   "execution_count": null,
   "id": "c85acb49-8863-46d0-a963-49def835b785",
   "metadata": {},
   "outputs": [],
   "source": []
  }
 ],
 "metadata": {
  "kernelspec": {
   "display_name": "Python 3 (ipykernel)",
   "language": "python",
   "name": "python3"
  },
  "language_info": {
   "codemirror_mode": {
    "name": "ipython",
    "version": 3
   },
   "file_extension": ".py",
   "mimetype": "text/x-python",
   "name": "python",
   "nbconvert_exporter": "python",
   "pygments_lexer": "ipython3",
   "version": "3.9.13"
  }
 },
 "nbformat": 4,
 "nbformat_minor": 5
}
